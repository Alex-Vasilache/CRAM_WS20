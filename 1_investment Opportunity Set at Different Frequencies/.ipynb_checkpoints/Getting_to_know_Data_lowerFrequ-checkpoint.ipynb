{
 "cells": [
  {
   "cell_type": "markdown",
   "metadata": {},
   "source": [
    "# Voluntary Problem Set\n",
    "\n",
    "This problem set allows you to play around with concepts from class and to solve some smaller problems on your own. \n",
    "\n"
   ]
  },
  {
   "cell_type": "markdown",
   "metadata": {},
   "source": [
    "# Topic: EU Blue Chip Returns at Different Frequencies"
   ]
  },
  {
   "cell_type": "markdown",
   "metadata": {},
   "source": [
    "## A. Investment Opportunity Set at Different Frequencies"
   ]
  },
  {
   "cell_type": "markdown",
   "metadata": {},
   "source": [
    "Load-in the daily return panel of EU Blue Chips from class. Ensure that you work with a pandas data frame and a date time index. As you compute \"r_d.info()\" it will tell you whether or not r_d as a \"DatetimeIndex\".\n",
    "\n",
    "As your daily $r_d$ works with a \"DatetimeIndex\" you can easily change the frequency of your time series. Therefore, use the \".resample() function\" to compute a data panel of \n",
    "\n",
    "- monthly log returns\n",
    "\n",
    "- quarterly log returns\n",
    "\n",
    "- annual log returns\n",
    "\n",
    "Figure out whether annualized mean returns, annualized return volatilities and annualized raw Sharp Ratios differ depending on whether you compute these using daily, monthly, quarterly or annual log returns. \n",
    "\n",
    "Discuss the impact that the frequency has on the precision of the estimate of annualized mean returns.\n",
    "\n"
   ]
  },
  {
   "cell_type": "markdown",
   "metadata": {},
   "source": [
    "## B. Skewness   at Different Frequencies"
   ]
  },
  {
   "cell_type": "markdown",
   "metadata": {},
   "source": [
    "Compute the cross-sectional average of return skewness for\n",
    "\n",
    "- daily\n",
    "- monthly\n",
    "- quarterly and\n",
    "- the annual frequency.\n",
    "\n",
    "State your findings as: \"The lower the return frequency, the **[higher/lower]** the skeweness\". \n",
    "    \n",
    "State your findings as: \"All else equal, looking at average skewness, the lower the return frequency, the **[more/less]** Gaussian are equity returns\"\n",
    "\n",
    "How could you incorporate the frequency dependence of return skewness into a probability density model? \n",
    "\n"
   ]
  },
  {
   "cell_type": "markdown",
   "metadata": {},
   "source": [
    "## C. Kurtosis  at Different Frequencies"
   ]
  },
  {
   "cell_type": "markdown",
   "metadata": {},
   "source": [
    "Compute the cross-sectional average of return kurtosis for\n",
    "\n",
    "- daily\n",
    "- monthly\n",
    "- quarterly and\n",
    "- the annual frequency.\n",
    "\n",
    "State your findings as: \"The lower the return frequency, the **[higher/lower]** the kurtosis\". \n",
    "    \n",
    "State your findings as: \"All else equal, looking at average kurtosis, the lower the return frequency, the **[more/less]** Gaussian are equity returns\"\n",
    "\n",
    "How could you incorporate your findings on kurtosis into a probability density model for returns?\n"
   ]
  },
  {
   "cell_type": "markdown",
   "metadata": {},
   "source": [
    "## D. Principal Component Analysis"
   ]
  },
  {
   "cell_type": "markdown",
   "metadata": {},
   "source": [
    "Display variance explained of the first three principal components of your return panel for\n",
    "\n",
    "- daily\n",
    "\n",
    "- monthly\n",
    "\n",
    "- quarterly\n",
    "\n",
    "- and annual returns.\n",
    "\n",
    "Is there any noticeable difference in the variance explained by the respective first principal component?"
   ]
  },
  {
   "cell_type": "markdown",
   "metadata": {},
   "source": [
    "## E. Probability Density Function for different Return Frequencies"
   ]
  },
  {
   "cell_type": "markdown",
   "metadata": {},
   "source": [
    "Adjust the function from class to print the probability density function of a return panel at differnt frequencies. The function shall read-in a daily return panel and plot for each ticker the realized return histogram at frequency (i) daily, (ii) monthly, (iii) quarterly and (iv) annual, together with the notion whether or not the density can be modelled as Gaussian. For the latter, run a Jarque-Bera test with a type I error of 10%. "
   ]
  },
  {
   "cell_type": "markdown",
   "metadata": {},
   "source": [
    "# Implementation"
   ]
  },
  {
   "cell_type": "markdown",
   "metadata": {},
   "source": [
    "## A."
   ]
  },
  {
   "cell_type": "code",
   "execution_count": null,
   "metadata": {},
   "outputs": [],
   "source": [
    "import pandas as pd\n",
    "import numpy as np\n",
    "import matplotlib.pyplot as plt"
   ]
  }
 ],
 "metadata": {
  "kernelspec": {
   "display_name": "Python 3",
   "language": "python",
   "name": "python3"
  },
  "language_info": {
   "codemirror_mode": {
    "name": "ipython",
    "version": 3
   },
   "file_extension": ".py",
   "mimetype": "text/x-python",
   "name": "python",
   "nbconvert_exporter": "python",
   "pygments_lexer": "ipython3",
   "version": "3.7.8"
  }
 },
 "nbformat": 4,
 "nbformat_minor": 4
}
