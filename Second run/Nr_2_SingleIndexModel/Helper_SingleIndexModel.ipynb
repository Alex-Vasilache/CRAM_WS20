{
 "cells": [
  {
   "cell_type": "markdown",
   "metadata": {},
   "source": [
    "# Class: Single-Index Model"
   ]
  },
  {
   "cell_type": "code",
   "execution_count": 2,
   "metadata": {},
   "outputs": [],
   "source": [
    "import statsmodels.api as sm\n",
    "import numpy as np\n",
    "import pandas as pd\n",
    "import copy           #initializing without \"copy\" (call by reference) let to wrong regression results (neg R2 etc). hence, call by value vs reference matters (unmutable vs mutable)\n",
    "from scipy.stats import spearmanr #for p-value of correlation matrix of residuals \n",
    "\n",
    "class SingleIndexModel():\n",
    "    \n",
    "    def __init__(self, r, f1):  \n",
    "        #input: r: pandas data frame\n",
    "        #input: f1: pandas data frame\n",
    "        self.r = copy.copy(r)                 #alternatively: pd.DataFrame(r).copy()\n",
    "        self.f1 = copy.copy(f1)               #alternatively: pd.DataFrame(f1).copy() \n",
    "        self.eps = copy.copy(r)               #alternatively: pd.DataFrame(r).copy()\n",
    "        self.Rho = pd.DataFrame               #correlation matrix of residuals\n",
    "        \n",
    "        self.alpha = np.zeros((2,r.shape[1])) #point estimate // t-vlue\n",
    "        self.beta = np.zeros((2,r.shape[1]))  #point estimate // t-vlue\n",
    "        \n",
    "        self.adjR2       = np.zeros((1,r.shape[1]))\n",
    "        \n",
    "        \n",
    "    def fit_linReg(self):\n",
    "        X = self.f1\n",
    "        X =sm.add_constant(X)\n",
    "        \n",
    "        for i in range(0,self.r.shape[1]): \n",
    "            y = self.r.iloc[:,i]\n",
    "            \n",
    "            linReg = sm.GLS(y,X)\n",
    "            output = linReg.fit()\n",
    "                      \n",
    "            self.eps.iloc[:,i] = y-output.fittedvalues\n",
    "            \n",
    "            self.Rho = self.eps.corr(method=\"spearman\") #correlation among firm-specific shocks\n",
    "            self.Rho_sc, self.Rho_pvl_scp = spearmanr(self.eps)\n",
    "            \n",
    "            self.alpha[0,i] = output.params[0]\n",
    "            self.alpha[1,i] = output.tvalues[0]\n",
    "            \n",
    "            self.beta[0,i]  = output.params[1]\n",
    "            self.beta[1,i]  = output.tvalues[1]\n",
    "            \n",
    "            self.adjR2[0,i] = output.rsquared_adj \n",
    "            \n",
    "            \n",
    "             "
   ]
  }
 ],
 "metadata": {
  "kernelspec": {
   "display_name": "Python 3",
   "language": "python",
   "name": "python3"
  },
  "language_info": {
   "codemirror_mode": {
    "name": "ipython",
    "version": 3
   },
   "file_extension": ".py",
   "mimetype": "text/x-python",
   "name": "python",
   "nbconvert_exporter": "python",
   "pygments_lexer": "ipython3",
   "version": "3.7.6"
  }
 },
 "nbformat": 4,
 "nbformat_minor": 4
}
