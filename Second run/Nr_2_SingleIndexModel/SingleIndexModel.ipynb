{
 "cells": [
  {
   "cell_type": "markdown",
   "metadata": {},
   "source": [
    "# Voluntary Problem Set\n",
    "\n",
    "This problem set allows you to play around with concepts from class and to solve some smaller problems on your own."
   ]
  },
  {
   "cell_type": "markdown",
   "metadata": {},
   "source": [
    "# Topic: Single Index Model\n",
    "\n"
   ]
  },
  {
   "cell_type": "markdown",
   "metadata": {},
   "source": [
    "## A. Object-oriented Programming in Python\n",
    "\n",
    "1. Load \"Helper_SingleIndexModel.ipynb\". Notice, reading an ipynb into another ipynb requires the following upgrade on your terminal\n",
    "\n",
    "\n",
    "**pip install ipynb --upgrade**\n",
    "\n",
    "$$\n",
    "\\\\\n",
    "$$\n",
    " \n",
    "\n",
    "2. Analyze the file \"Helper_SingleIndexModel.ipynb\" and explain the following:\n",
    "    \n",
    "    2.1 What is the purpose of \"class SingleIndexModel()\"\n",
    "    2.2 What is the constructor of the class doing?\n",
    "    2.3 What is the function \"fit_linReg(self) doing\"?\n",
    "    2.4 Which output within \"fit_linReg(self)\" is crucial for evaluating the adequacy of a single index model?\n",
    "    2.5 If necessary, do some google research on how to write object oriented code in Python."
   ]
  },
  {
   "cell_type": "markdown",
   "metadata": {},
   "source": [
    "## B. Specifying a Single Index Model"
   ]
  },
  {
   "cell_type": "markdown",
   "metadata": {},
   "source": [
    "### B.1 Use insights from class to defend your choice for the systematic risk factor (i.e. single index). "
   ]
  },
  {
   "cell_type": "markdown",
   "metadata": {},
   "source": [
    "### B.2 Initialize \"class SingleIndexModel()\". Use our daily Euro Stoxx 50 Return Panel."
   ]
  },
  {
   "cell_type": "markdown",
   "metadata": {},
   "source": [
    "### B.3. Display how much variance of a stock's return is explained by variations in systematic risk"
   ]
  },
  {
   "cell_type": "markdown",
   "metadata": {},
   "source": [
    "### B.4 Defend the argument that 80% of variance in VOW.DE is diversified away in a well diversified EU Blue Chip Portfolio"
   ]
  },
  {
   "cell_type": "markdown",
   "metadata": {},
   "source": [
    "### B.5 Display a table with the statistical correlations of firm specific innovations.\n",
    "\n"
   ]
  },
  {
   "cell_type": "markdown",
   "metadata": {},
   "source": [
    "### B.6 Display for every firm its average correlation with the other ES 50 constituents. Also, display the results as a histogram to get a visual inspection on the magnitude of average correlations"
   ]
  },
  {
   "cell_type": "markdown",
   "metadata": {},
   "source": [
    "### B.7 CHALLENGE Question: Is the Single Index Model well specified?\n",
    "\n",
    "Hint: https://www.youtube.com/watch?v=Xe9E47DNyYM"
   ]
  },
  {
   "cell_type": "code",
   "execution_count": null,
   "metadata": {},
   "outputs": [],
   "source": []
  }
 ],
 "metadata": {
  "kernelspec": {
   "display_name": "Python 3",
   "language": "python",
   "name": "python3"
  },
  "language_info": {
   "codemirror_mode": {
    "name": "ipython",
    "version": 3
   },
   "file_extension": ".py",
   "mimetype": "text/x-python",
   "name": "python",
   "nbconvert_exporter": "python",
   "pygments_lexer": "ipython3",
   "version": "3.7.6"
  }
 },
 "nbformat": 4,
 "nbformat_minor": 4
}
