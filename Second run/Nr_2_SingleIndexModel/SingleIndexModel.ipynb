{
 "cells": [
  {
   "cell_type": "markdown",
   "metadata": {},
   "source": [
    "# Voluntary Problem Set\n",
    "\n",
    "This problem set allows you to play around with concepts from class and to solve some smaller problems on your own."
   ]
  },
  {
   "cell_type": "markdown",
   "metadata": {},
   "source": [
    "# Topic: Single Index Model\n",
    "\n"
   ]
  },
  {
   "cell_type": "markdown",
   "metadata": {},
   "source": [
    "## A. Object-oriented Programming in Python\n",
    "\n",
    "1. Load \"Helper_SingleIndexModel.ipynb\". Notice, reading an ipynb into another ipynb requires the following upgrade on your terminal\n",
    "\n",
    "\n",
    "**pip install ipynb --upgrade**\n",
    "\n",
    "$$\n",
    "\\\\\n",
    "$$\n",
    " \n",
    "\n",
    "2. Analyze the file \"Helper_SingleIndexModel.ipynb\" and explain the following:\n",
    "    \n",
    "    2.1 What is the purpose of \"class SingleIndexModel()\"\n",
    "    2.2 What is the constructor of the class doing?\n",
    "    2.3 What is the function \"fit_linReg(self) doing\"?\n",
    "    2.4 Which output within \"fit_linReg(self)\" is crucial for evaluating the adequacy of a single index model?\n",
    "    2.5 If necessary, do some google research on how to write object oriented code in Python."
   ]
  },
  {
   "cell_type": "code",
   "execution_count": 1,
   "metadata": {},
   "outputs": [],
   "source": [
    "import pandas as pd\n",
    "import numpy as np\n",
    "from scipy import stats\n",
    "import matplotlib.pyplot as plt\n",
    "from sklearn.decomposition import PCA\n",
    "import statsmodels.api as sm\n",
    "from ipynb.fs.defs.Helper_SingleIndexModel import SingleIndexModel"
   ]
  },
  {
   "cell_type": "code",
   "execution_count": 5,
   "metadata": {},
   "outputs": [],
   "source": [
    "r_d = pd.read_csv(\"r_ES50_d_cleaned_realized_Nov2020.csv\", parse_dates=True, index_col=0)"
   ]
  },
  {
   "cell_type": "markdown",
   "metadata": {},
   "source": [
    "## B. Specifying a Single Index Model"
   ]
  },
  {
   "cell_type": "markdown",
   "metadata": {},
   "source": [
    "### B.1 Use insights from class to defend your choice for the systematic risk factor (i.e. single index). "
   ]
  },
  {
   "cell_type": "markdown",
   "metadata": {},
   "source": [
    "### B.2 Initialize \"class SingleIndexModel()\". Use our daily Euro Stoxx 50 Return Panel."
   ]
  },
  {
   "cell_type": "code",
   "execution_count": 3,
   "metadata": {},
   "outputs": [],
   "source": [
    "sim = SingleIndexModel(r.iloc[:,:-1],r.iloc[:,-1:])\n",
    "sim.fit_linReg()"
   ]
  },
  {
   "cell_type": "markdown",
   "metadata": {},
   "source": [
    "### B.3. Display how much variance of a stock's return is explained by variations in systematic risk"
   ]
  },
  {
   "cell_type": "code",
   "execution_count": 177,
   "metadata": {},
   "outputs": [],
   "source": [
    "InvOpp = r_d.agg(['std']).T\n",
    "InvOpp[\"std\"]  = InvOpp[\"std\"]\n",
    "#Total Risk = variance = std^2\n",
    "InvOpp[\"Total.Risk\"] = InvOpp[\"std\"]**2\n",
    "InvOpp[\"Total.Risk\"] = InvOpp[\"Total.Risk\"] \n",
    "#Idiosyncratic risk in single index model is given by variance of epsilon = epsilon.std^2\n",
    "InvOpp[\"Idiosync.Risk\"] =  (sim.eps.agg(['std']).T)**2 \n",
    "InvOpp[\"Idiosync.Risk.Ratio\"] = InvOpp[\"Idiosync.Risk\"]/InvOpp[\"Total.Risk\"]\n",
    "InvOpp[\"Systm.Risk\"] = InvOpp[\"Total.Risk\"] - InvOpp[\"Idiosync.Risk\"]\n",
    "InvOpp[\"Systm.Risk.Ratio\"] = 1 - InvOpp[\"Idiosync.Risk.Ratio\"]"
   ]
  },
  {
   "cell_type": "code",
   "execution_count": 178,
   "metadata": {},
   "outputs": [
    {
     "output_type": "execute_result",
     "data": {
      "text/plain": [
       "             std  Total.Risk  Idiosync.Risk  Idiosync.Risk.Ratio  Systm.Risk  \\\n",
       "ADS.DE   0.01919     0.00037        0.00025              0.68725     0.00012   \n",
       "AI.PA    0.01571     0.00025        0.00012              0.47129     0.00013   \n",
       "ALV.DE   0.02162     0.00047        0.00017              0.35575     0.00030   \n",
       "ASML.AS  0.02800     0.00078        0.00051              0.64886     0.00028   \n",
       "CS.PA    0.02780     0.00077        0.00033              0.42640     0.00044   \n",
       "\n",
       "         Systm.Risk.Ratio  \n",
       "ADS.DE            0.31275  \n",
       "AI.PA             0.52871  \n",
       "ALV.DE            0.64425  \n",
       "ASML.AS           0.35114  \n",
       "CS.PA             0.57360  "
      ],
      "text/html": "<div>\n<style scoped>\n    .dataframe tbody tr th:only-of-type {\n        vertical-align: middle;\n    }\n\n    .dataframe tbody tr th {\n        vertical-align: top;\n    }\n\n    .dataframe thead th {\n        text-align: right;\n    }\n</style>\n<table border=\"1\" class=\"dataframe\">\n  <thead>\n    <tr style=\"text-align: right;\">\n      <th></th>\n      <th>std</th>\n      <th>Total.Risk</th>\n      <th>Idiosync.Risk</th>\n      <th>Idiosync.Risk.Ratio</th>\n      <th>Systm.Risk</th>\n      <th>Systm.Risk.Ratio</th>\n    </tr>\n  </thead>\n  <tbody>\n    <tr>\n      <th>ADS.DE</th>\n      <td>0.01919</td>\n      <td>0.00037</td>\n      <td>0.00025</td>\n      <td>0.68725</td>\n      <td>0.00012</td>\n      <td>0.31275</td>\n    </tr>\n    <tr>\n      <th>AI.PA</th>\n      <td>0.01571</td>\n      <td>0.00025</td>\n      <td>0.00012</td>\n      <td>0.47129</td>\n      <td>0.00013</td>\n      <td>0.52871</td>\n    </tr>\n    <tr>\n      <th>ALV.DE</th>\n      <td>0.02162</td>\n      <td>0.00047</td>\n      <td>0.00017</td>\n      <td>0.35575</td>\n      <td>0.00030</td>\n      <td>0.64425</td>\n    </tr>\n    <tr>\n      <th>ASML.AS</th>\n      <td>0.02800</td>\n      <td>0.00078</td>\n      <td>0.00051</td>\n      <td>0.64886</td>\n      <td>0.00028</td>\n      <td>0.35114</td>\n    </tr>\n    <tr>\n      <th>CS.PA</th>\n      <td>0.02780</td>\n      <td>0.00077</td>\n      <td>0.00033</td>\n      <td>0.42640</td>\n      <td>0.00044</td>\n      <td>0.57360</td>\n    </tr>\n  </tbody>\n</table>\n</div>"
     },
     "metadata": {},
     "execution_count": 178
    }
   ],
   "source": [
    "np.round(InvOpp.head(),5)"
   ]
  },
  {
   "cell_type": "code",
   "execution_count": 180,
   "metadata": {},
   "outputs": [
    {
     "output_type": "execute_result",
     "data": {
      "text/plain": [
       "0.31"
      ]
     },
     "metadata": {},
     "execution_count": 180
    }
   ],
   "source": [
    "np.round(InvOpp[\"Systm.Risk.Ratio\"],2)[\"ADS.DE\"]"
   ]
  },
  {
   "cell_type": "markdown",
   "metadata": {},
   "source": [
    "### B.4 Defend the argument that 80% of variance in VOW.DE is diversified away in a well diversified EU Blue Chip Portfolio"
   ]
  },
  {
   "cell_type": "code",
   "execution_count": 181,
   "metadata": {},
   "outputs": [
    {
     "output_type": "execute_result",
     "data": {
      "text/plain": [
       "             std  Total.Risk  Idiosync.Risk  Idiosync.Risk.Ratio  Systm.Risk  \\\n",
       "UNA.AS  0.014918    0.000223       0.000161             0.724969    0.000061   \n",
       "DG.PA   0.019143    0.000366       0.000200             0.544731    0.000167   \n",
       "VIV.PA  0.021741    0.000473       0.000281             0.595250    0.000191   \n",
       "VOW.DE  0.025914    0.000672       0.000531             0.790553    0.000141   \n",
       "1/N     0.013988    0.000196            NaN                  NaN         NaN   \n",
       "\n",
       "        Systm.Risk.Ratio  \n",
       "UNA.AS          0.275031  \n",
       "DG.PA           0.455269  \n",
       "VIV.PA          0.404750  \n",
       "VOW.DE          0.209447  \n",
       "1/N                  NaN  "
      ],
      "text/html": "<div>\n<style scoped>\n    .dataframe tbody tr th:only-of-type {\n        vertical-align: middle;\n    }\n\n    .dataframe tbody tr th {\n        vertical-align: top;\n    }\n\n    .dataframe thead th {\n        text-align: right;\n    }\n</style>\n<table border=\"1\" class=\"dataframe\">\n  <thead>\n    <tr style=\"text-align: right;\">\n      <th></th>\n      <th>std</th>\n      <th>Total.Risk</th>\n      <th>Idiosync.Risk</th>\n      <th>Idiosync.Risk.Ratio</th>\n      <th>Systm.Risk</th>\n      <th>Systm.Risk.Ratio</th>\n    </tr>\n  </thead>\n  <tbody>\n    <tr>\n      <th>UNA.AS</th>\n      <td>0.014918</td>\n      <td>0.000223</td>\n      <td>0.000161</td>\n      <td>0.724969</td>\n      <td>0.000061</td>\n      <td>0.275031</td>\n    </tr>\n    <tr>\n      <th>DG.PA</th>\n      <td>0.019143</td>\n      <td>0.000366</td>\n      <td>0.000200</td>\n      <td>0.544731</td>\n      <td>0.000167</td>\n      <td>0.455269</td>\n    </tr>\n    <tr>\n      <th>VIV.PA</th>\n      <td>0.021741</td>\n      <td>0.000473</td>\n      <td>0.000281</td>\n      <td>0.595250</td>\n      <td>0.000191</td>\n      <td>0.404750</td>\n    </tr>\n    <tr>\n      <th>VOW.DE</th>\n      <td>0.025914</td>\n      <td>0.000672</td>\n      <td>0.000531</td>\n      <td>0.790553</td>\n      <td>0.000141</td>\n      <td>0.209447</td>\n    </tr>\n    <tr>\n      <th>1/N</th>\n      <td>0.013988</td>\n      <td>0.000196</td>\n      <td>NaN</td>\n      <td>NaN</td>\n      <td>NaN</td>\n      <td>NaN</td>\n    </tr>\n  </tbody>\n</table>\n</div>"
     },
     "metadata": {},
     "execution_count": 181
    }
   ],
   "source": [
    "InvOpp.tail()"
   ]
  },
  {
   "cell_type": "code",
   "execution_count": 184,
   "metadata": {},
   "outputs": [
    {
     "output_type": "execute_result",
     "data": {
      "text/plain": [
       "0.79"
      ]
     },
     "metadata": {},
     "execution_count": 184
    }
   ],
   "source": [
    "np.round( InvOpp[\"Idiosync.Risk.Ratio\"],2)[\"VOW.DE\"]"
   ]
  },
  {
   "cell_type": "markdown",
   "metadata": {},
   "source": [
    "### B.5 Display a table with the statistical correlations of firm specific innovations.\n",
    "\n"
   ]
  },
  {
   "cell_type": "code",
   "execution_count": 185,
   "metadata": {},
   "outputs": [
    {
     "output_type": "execute_result",
     "data": {
      "text/plain": [
       "           ADS.DE     AI.PA    ALV.DE   ASML.AS     CS.PA   BBVA.MC    SAN.MC  \\\n",
       "ADS.DE   1.000000  0.005108  0.004341 -0.008357 -0.068258 -0.138592 -0.153878   \n",
       "AI.PA    0.005108  1.000000 -0.069364 -0.014535 -0.054002 -0.128559 -0.108801   \n",
       "ALV.DE   0.004341 -0.069364  1.000000 -0.077244  0.226062  0.005766  0.011187   \n",
       "ASML.AS -0.008357 -0.014535 -0.077244  1.000000 -0.094929 -0.123288 -0.128862   \n",
       "CS.PA   -0.068258 -0.054002  0.226062 -0.094929  1.000000  0.091176  0.076879   \n",
       "\n",
       "           BAS.DE   BAYN.DE    BMW.DE  ...    SAP.DE     SU.PA    SIE.DE  \\\n",
       "ADS.DE   0.099422  0.040681  0.063711  ...  0.068234  0.027725  0.040849   \n",
       "AI.PA    0.177991  0.119561 -0.032135  ...  0.004054  0.078575 -0.023187   \n",
       "ALV.DE   0.090401  0.032107 -0.000656  ...  0.025918 -0.086578  0.079995   \n",
       "ASML.AS -0.089245 -0.040164 -0.058935  ...  0.233921 -0.030971  0.112870   \n",
       "CS.PA   -0.074189 -0.117244 -0.054626  ... -0.132074 -0.013550 -0.064708   \n",
       "\n",
       "           TEF.MC     FP.PA    URW.AS    UNA.AS     DG.PA    VIV.PA    VOW.DE  \n",
       "ADS.DE  -0.170877 -0.031518  0.025472  0.040419  0.026124 -0.069093  0.047695  \n",
       "AI.PA   -0.097749  0.098221  0.026864  0.118662  0.033742 -0.004837 -0.043565  \n",
       "ALV.DE  -0.068467 -0.058496 -0.044931 -0.059632 -0.079358 -0.023628 -0.035841  \n",
       "ASML.AS -0.034499 -0.121288 -0.107949 -0.063777 -0.131058  0.053256 -0.029967  \n",
       "CS.PA   -0.074978 -0.051897 -0.000046 -0.102763 -0.013573 -0.006035 -0.074209  \n",
       "\n",
       "[5 rows x 42 columns]"
      ],
      "text/html": "<div>\n<style scoped>\n    .dataframe tbody tr th:only-of-type {\n        vertical-align: middle;\n    }\n\n    .dataframe tbody tr th {\n        vertical-align: top;\n    }\n\n    .dataframe thead th {\n        text-align: right;\n    }\n</style>\n<table border=\"1\" class=\"dataframe\">\n  <thead>\n    <tr style=\"text-align: right;\">\n      <th></th>\n      <th>ADS.DE</th>\n      <th>AI.PA</th>\n      <th>ALV.DE</th>\n      <th>ASML.AS</th>\n      <th>CS.PA</th>\n      <th>BBVA.MC</th>\n      <th>SAN.MC</th>\n      <th>BAS.DE</th>\n      <th>BAYN.DE</th>\n      <th>BMW.DE</th>\n      <th>...</th>\n      <th>SAP.DE</th>\n      <th>SU.PA</th>\n      <th>SIE.DE</th>\n      <th>TEF.MC</th>\n      <th>FP.PA</th>\n      <th>URW.AS</th>\n      <th>UNA.AS</th>\n      <th>DG.PA</th>\n      <th>VIV.PA</th>\n      <th>VOW.DE</th>\n    </tr>\n  </thead>\n  <tbody>\n    <tr>\n      <th>ADS.DE</th>\n      <td>1.000000</td>\n      <td>0.005108</td>\n      <td>0.004341</td>\n      <td>-0.008357</td>\n      <td>-0.068258</td>\n      <td>-0.138592</td>\n      <td>-0.153878</td>\n      <td>0.099422</td>\n      <td>0.040681</td>\n      <td>0.063711</td>\n      <td>...</td>\n      <td>0.068234</td>\n      <td>0.027725</td>\n      <td>0.040849</td>\n      <td>-0.170877</td>\n      <td>-0.031518</td>\n      <td>0.025472</td>\n      <td>0.040419</td>\n      <td>0.026124</td>\n      <td>-0.069093</td>\n      <td>0.047695</td>\n    </tr>\n    <tr>\n      <th>AI.PA</th>\n      <td>0.005108</td>\n      <td>1.000000</td>\n      <td>-0.069364</td>\n      <td>-0.014535</td>\n      <td>-0.054002</td>\n      <td>-0.128559</td>\n      <td>-0.108801</td>\n      <td>0.177991</td>\n      <td>0.119561</td>\n      <td>-0.032135</td>\n      <td>...</td>\n      <td>0.004054</td>\n      <td>0.078575</td>\n      <td>-0.023187</td>\n      <td>-0.097749</td>\n      <td>0.098221</td>\n      <td>0.026864</td>\n      <td>0.118662</td>\n      <td>0.033742</td>\n      <td>-0.004837</td>\n      <td>-0.043565</td>\n    </tr>\n    <tr>\n      <th>ALV.DE</th>\n      <td>0.004341</td>\n      <td>-0.069364</td>\n      <td>1.000000</td>\n      <td>-0.077244</td>\n      <td>0.226062</td>\n      <td>0.005766</td>\n      <td>0.011187</td>\n      <td>0.090401</td>\n      <td>0.032107</td>\n      <td>-0.000656</td>\n      <td>...</td>\n      <td>0.025918</td>\n      <td>-0.086578</td>\n      <td>0.079995</td>\n      <td>-0.068467</td>\n      <td>-0.058496</td>\n      <td>-0.044931</td>\n      <td>-0.059632</td>\n      <td>-0.079358</td>\n      <td>-0.023628</td>\n      <td>-0.035841</td>\n    </tr>\n    <tr>\n      <th>ASML.AS</th>\n      <td>-0.008357</td>\n      <td>-0.014535</td>\n      <td>-0.077244</td>\n      <td>1.000000</td>\n      <td>-0.094929</td>\n      <td>-0.123288</td>\n      <td>-0.128862</td>\n      <td>-0.089245</td>\n      <td>-0.040164</td>\n      <td>-0.058935</td>\n      <td>...</td>\n      <td>0.233921</td>\n      <td>-0.030971</td>\n      <td>0.112870</td>\n      <td>-0.034499</td>\n      <td>-0.121288</td>\n      <td>-0.107949</td>\n      <td>-0.063777</td>\n      <td>-0.131058</td>\n      <td>0.053256</td>\n      <td>-0.029967</td>\n    </tr>\n    <tr>\n      <th>CS.PA</th>\n      <td>-0.068258</td>\n      <td>-0.054002</td>\n      <td>0.226062</td>\n      <td>-0.094929</td>\n      <td>1.000000</td>\n      <td>0.091176</td>\n      <td>0.076879</td>\n      <td>-0.074189</td>\n      <td>-0.117244</td>\n      <td>-0.054626</td>\n      <td>...</td>\n      <td>-0.132074</td>\n      <td>-0.013550</td>\n      <td>-0.064708</td>\n      <td>-0.074978</td>\n      <td>-0.051897</td>\n      <td>-0.000046</td>\n      <td>-0.102763</td>\n      <td>-0.013573</td>\n      <td>-0.006035</td>\n      <td>-0.074209</td>\n    </tr>\n  </tbody>\n</table>\n<p>5 rows × 42 columns</p>\n</div>"
     },
     "metadata": {},
     "execution_count": 185
    }
   ],
   "source": [
    "sim.Rho.head()"
   ]
  },
  {
   "cell_type": "code",
   "execution_count": 186,
   "metadata": {},
   "outputs": [
    {
     "output_type": "execute_result",
     "data": {
      "text/plain": [
       "0.05"
      ]
     },
     "metadata": {},
     "execution_count": 186
    }
   ],
   "source": [
    "np.round(sim.Rho[\"ADS.DE\"][\"VOW.DE\"],2)"
   ]
  },
  {
   "cell_type": "markdown",
   "metadata": {},
   "source": [
    "### B.6 Display for every firm its average correlation with the other ES 50 constituents. Also, display the results as a histogram to get a visual inspection on the magnitude of average correlations"
   ]
  },
  {
   "cell_type": "code",
   "execution_count": 187,
   "metadata": {},
   "outputs": [],
   "source": [
    "avg_corr = np.empty(len(sim.Rho))\n",
    "\n",
    "for i in range(len(sim.Rho)):\n",
    "    avg_corr[i] = sim.Rho.iloc[i,:].mean()\n",
    "\n",
    "avg_corr = pd.DataFrame(avg_corr, index=sim.Rho.iloc[0,:].index)"
   ]
  },
  {
   "cell_type": "code",
   "execution_count": 188,
   "metadata": {},
   "outputs": [
    {
     "output_type": "execute_result",
     "data": {
      "text/plain": [
       "             0\n",
       "ADS.DE    0.01\n",
       "AI.PA     0.03\n",
       "ALV.DE    0.02\n",
       "ASML.AS  -0.01\n",
       "CS.PA     0.00\n",
       "BBVA.MC   0.01\n",
       "SAN.MC    0.01\n",
       "BAS.DE    0.03\n",
       "BAYN.DE   0.02\n",
       "BMW.DE    0.01\n",
       "BNP.PA    0.01\n",
       "CRG.IR   -0.00\n",
       "SGO.PA    0.01\n",
       "DAI.DE    0.01\n",
       "DTE.DE    0.01\n",
       "ENEL.MI   0.02\n",
       "ENGI.PA   0.02\n",
       "ENI.MI    0.02\n",
       "EOAN.DE   0.02\n",
       "FRE.DE    0.00\n",
       "BN.PA     0.02\n",
       "IBE.MC    0.02\n",
       "INGA.AS   0.01\n",
       "ISP.MI    0.00\n",
       "OR.PA     0.02\n",
       "MC.PA     0.01\n",
       "MUV2.DE   0.02\n",
       "NOKIA.HE -0.02\n",
       "ORA.PA    0.00\n",
       "PHIA.AS  -0.00\n",
       "SAF.PA   -0.01\n",
       "SAN.PA    0.02\n",
       "SAP.DE    0.01\n",
       "SU.PA     0.01\n",
       "SIE.DE    0.01\n",
       "TEF.MC    0.01\n",
       "FP.PA     0.02\n",
       "URW.AS    0.01\n",
       "UNA.AS    0.02\n",
       "DG.PA     0.01\n",
       "VIV.PA    0.00\n",
       "VOW.DE   -0.00"
      ],
      "text/html": "<div>\n<style scoped>\n    .dataframe tbody tr th:only-of-type {\n        vertical-align: middle;\n    }\n\n    .dataframe tbody tr th {\n        vertical-align: top;\n    }\n\n    .dataframe thead th {\n        text-align: right;\n    }\n</style>\n<table border=\"1\" class=\"dataframe\">\n  <thead>\n    <tr style=\"text-align: right;\">\n      <th></th>\n      <th>0</th>\n    </tr>\n  </thead>\n  <tbody>\n    <tr>\n      <th>ADS.DE</th>\n      <td>0.01</td>\n    </tr>\n    <tr>\n      <th>AI.PA</th>\n      <td>0.03</td>\n    </tr>\n    <tr>\n      <th>ALV.DE</th>\n      <td>0.02</td>\n    </tr>\n    <tr>\n      <th>ASML.AS</th>\n      <td>-0.01</td>\n    </tr>\n    <tr>\n      <th>CS.PA</th>\n      <td>0.00</td>\n    </tr>\n    <tr>\n      <th>BBVA.MC</th>\n      <td>0.01</td>\n    </tr>\n    <tr>\n      <th>SAN.MC</th>\n      <td>0.01</td>\n    </tr>\n    <tr>\n      <th>BAS.DE</th>\n      <td>0.03</td>\n    </tr>\n    <tr>\n      <th>BAYN.DE</th>\n      <td>0.02</td>\n    </tr>\n    <tr>\n      <th>BMW.DE</th>\n      <td>0.01</td>\n    </tr>\n    <tr>\n      <th>BNP.PA</th>\n      <td>0.01</td>\n    </tr>\n    <tr>\n      <th>CRG.IR</th>\n      <td>-0.00</td>\n    </tr>\n    <tr>\n      <th>SGO.PA</th>\n      <td>0.01</td>\n    </tr>\n    <tr>\n      <th>DAI.DE</th>\n      <td>0.01</td>\n    </tr>\n    <tr>\n      <th>DTE.DE</th>\n      <td>0.01</td>\n    </tr>\n    <tr>\n      <th>ENEL.MI</th>\n      <td>0.02</td>\n    </tr>\n    <tr>\n      <th>ENGI.PA</th>\n      <td>0.02</td>\n    </tr>\n    <tr>\n      <th>ENI.MI</th>\n      <td>0.02</td>\n    </tr>\n    <tr>\n      <th>EOAN.DE</th>\n      <td>0.02</td>\n    </tr>\n    <tr>\n      <th>FRE.DE</th>\n      <td>0.00</td>\n    </tr>\n    <tr>\n      <th>BN.PA</th>\n      <td>0.02</td>\n    </tr>\n    <tr>\n      <th>IBE.MC</th>\n      <td>0.02</td>\n    </tr>\n    <tr>\n      <th>INGA.AS</th>\n      <td>0.01</td>\n    </tr>\n    <tr>\n      <th>ISP.MI</th>\n      <td>0.00</td>\n    </tr>\n    <tr>\n      <th>OR.PA</th>\n      <td>0.02</td>\n    </tr>\n    <tr>\n      <th>MC.PA</th>\n      <td>0.01</td>\n    </tr>\n    <tr>\n      <th>MUV2.DE</th>\n      <td>0.02</td>\n    </tr>\n    <tr>\n      <th>NOKIA.HE</th>\n      <td>-0.02</td>\n    </tr>\n    <tr>\n      <th>ORA.PA</th>\n      <td>0.00</td>\n    </tr>\n    <tr>\n      <th>PHIA.AS</th>\n      <td>-0.00</td>\n    </tr>\n    <tr>\n      <th>SAF.PA</th>\n      <td>-0.01</td>\n    </tr>\n    <tr>\n      <th>SAN.PA</th>\n      <td>0.02</td>\n    </tr>\n    <tr>\n      <th>SAP.DE</th>\n      <td>0.01</td>\n    </tr>\n    <tr>\n      <th>SU.PA</th>\n      <td>0.01</td>\n    </tr>\n    <tr>\n      <th>SIE.DE</th>\n      <td>0.01</td>\n    </tr>\n    <tr>\n      <th>TEF.MC</th>\n      <td>0.01</td>\n    </tr>\n    <tr>\n      <th>FP.PA</th>\n      <td>0.02</td>\n    </tr>\n    <tr>\n      <th>URW.AS</th>\n      <td>0.01</td>\n    </tr>\n    <tr>\n      <th>UNA.AS</th>\n      <td>0.02</td>\n    </tr>\n    <tr>\n      <th>DG.PA</th>\n      <td>0.01</td>\n    </tr>\n    <tr>\n      <th>VIV.PA</th>\n      <td>0.00</td>\n    </tr>\n    <tr>\n      <th>VOW.DE</th>\n      <td>-0.00</td>\n    </tr>\n  </tbody>\n</table>\n</div>"
     },
     "metadata": {},
     "execution_count": 188
    }
   ],
   "source": [
    "np.round(avg_corr,2)"
   ]
  },
  {
   "cell_type": "markdown",
   "metadata": {},
   "source": [
    "### B.7 CHALLENGE Question: Is the Single Index Model well specified?\n",
    "\n",
    "Hint: https://www.youtube.com/watch?v=Xe9E47DNyYM"
   ]
  },
  {
   "cell_type": "code",
   "execution_count": null,
   "metadata": {},
   "outputs": [],
   "source": []
  }
 ],
 "metadata": {
  "kernelspec": {
   "name": "python3",
   "display_name": "Python 3.7.8 64-bit",
   "metadata": {
    "interpreter": {
     "hash": "57baa5815c940fdaff4d14510622de9616cae602444507ba5d0b6727c008cbd6"
    }
   }
  },
  "language_info": {
   "codemirror_mode": {
    "name": "ipython",
    "version": 3
   },
   "file_extension": ".py",
   "mimetype": "text/x-python",
   "name": "python",
   "nbconvert_exporter": "python",
   "pygments_lexer": "ipython3",
   "version": "3.7.8-final"
  }
 },
 "nbformat": 4,
 "nbformat_minor": 4
}