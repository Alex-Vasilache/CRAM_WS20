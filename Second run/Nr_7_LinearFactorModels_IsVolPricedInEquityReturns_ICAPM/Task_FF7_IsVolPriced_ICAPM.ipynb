{
 "cells": [
  {
   "cell_type": "markdown",
   "metadata": {},
   "source": [
    "# Voluntary Problem Set\n",
    "\n",
    "This problem set allows you to play around with concepts from class and to solve some smaller subproblems on your own.\n",
    "\n",
    "Additional guidance is provided for concepts that did not make into our class discussion. "
   ]
  },
  {
   "cell_type": "markdown",
   "metadata": {},
   "source": [
    "# Topic: Testing whether one earns a daily risk premium in equity for exposure to volatility innovations\n",
    "\n",
    " "
   ]
  },
  {
   "cell_type": "code",
   "execution_count": null,
   "metadata": {},
   "outputs": [],
   "source": []
  },
  {
   "cell_type": "markdown",
   "metadata": {},
   "source": [
    "# Your Learning Points\n",
    "\n",
    "you will practice \n",
    "\n",
    "- concepts of previous voluntary problem sets: Fama-MacBeth, Extracting Vol Shocks\n",
    "$$\n",
    "\\\\\n",
    "$$\n",
    "\n",
    "- High level introduction to the Intertemporal CAPM (in short: I-CAPM)\n",
    " "
   ]
  },
  {
   "cell_type": "code",
   "execution_count": null,
   "metadata": {},
   "outputs": [],
   "source": []
  },
  {
   "cell_type": "markdown",
   "metadata": {},
   "source": [
    "# Theory supporting what we are asked to do in the Problem Set\n",
    "\n",
    "The CAPM postulates that positive (negative) exposure to market risk is the only reason why a stock pays a return that is on average higher (lower) than the risk-free rate.\n",
    "\n",
    "Nobel laureate Prof. Robert Merton extends this theory to a dynamic context, using stochastic calculus. He shows that in a multiperiod context, not only market risk, but also exposure to factors that drive the level or slope of the Capital Allocation Line, is compensated by a risk premium. That theory is called Intertemporal CAPM or I-CAPM for short.\n",
    "\n",
    "If you want to let you financial data science work be guided by economic theory, it is worthwhile to follow the thinking of the I-CAPM. Namely, a systematic risk factor that is not the market factor needs to drive level or slope of the Capital Allocation Line (risk-free rate or Sharpe ratio of the market portfolio). \n",
    "\n",
    "The problem set can be rephrased: Are innovations to volatility driving daily changes in the Capital Allocation Line? If so, then exposure to volatility innovations are compensated by a risk premium. Hence, we rely on the Fama-MacBeth method and on volatility innovations extracted from a SVM to answer this question.\n",
    "\n",
    "$$\n",
    "\\\\\n",
    "$$\n",
    "\n",
    "**If you want to understand the line of arguments better, have a look at some of our YT videos, especially:**\n",
    "\n",
    "**Capital Allocation Line:** https://www.youtube.com/watch?v=oWv08pMqHak\n",
    "\n",
    "**I-CAPM Application:** https://www.youtube.com/watch?v=RD-dW8dHnJw&t=198s\n",
    "\n"
   ]
  },
  {
   "cell_type": "code",
   "execution_count": null,
   "metadata": {},
   "outputs": [],
   "source": []
  },
  {
   "cell_type": "code",
   "execution_count": null,
   "metadata": {},
   "outputs": [],
   "source": []
  },
  {
   "cell_type": "markdown",
   "metadata": {},
   "source": [
    "# Tasks \n",
    "$$\n",
    "\\\\\n",
    "$$\n",
    "\n",
    "**Notice:**  **R_d.csv** contains merged data for FF7, Rf and SP500 constituents \n",
    "\n",
    "$$\n",
    "\\\\\n",
    "$$\n",
    "\n",
    " \n",
    "\n",
    "**A.1**  Plot the daily normalized volatilities of the FF7 return factors into one graph.  \n",
    "\n",
    "How important is each of the first five principal components?\n",
    "\n",
    " \n",
    "\n",
    " \n",
    "**A.2** Which of the FF7 variances is the main driver of PC1(z(Vol(FF7))?  \n",
    "\n",
    " \n",
    "\n",
    "$$\n",
    "\\\\\n",
    "$$\n",
    "\n",
    "**B.1**  Are innovations to FF7 volatility priced in the cross-section of US equity returns?  "
   ]
  },
  {
   "cell_type": "code",
   "execution_count": null,
   "metadata": {},
   "outputs": [],
   "source": []
  },
  {
   "cell_type": "markdown",
   "metadata": {},
   "source": [
    "# Tasks ([Beginners])\n",
    "$$\n",
    "\\\\\n",
    "$$\n",
    "\n",
    "**Notice:**  **R_d.csv** contains merged data for FF7, Rf and SP500 constituents \n",
    "\n",
    "$$\n",
    "\\\\\n",
    "$$\n",
    "\n",
    " \n",
    "\n",
    "**A.1**  Plot the daily normalized volatilities of the FF7 return factors into one graph. \n",
    "\n",
    "Hint (beginner): normalize with the z-score\n",
    "\n",
    "How important is each of the first five principal components?\n",
    " \n",
    " \n",
    "**A.2** Which of the FF7 variances is the main driver of PC1(z(Vol(FF7))? Hint (beginner): GLS\n",
    "\n",
    " \n",
    "\n",
    "$$\n",
    "\\\\\n",
    "$$\n",
    "\n",
    "**B.1**  Are innovations to FF7 volatility priced in the cross-section of US equity returns? Hint (Beginners): Fama-MacBeth\n",
    "\n",
    " \n",
    "\n",
    "\n"
   ]
  },
  {
   "cell_type": "code",
   "execution_count": null,
   "metadata": {},
   "outputs": [],
   "source": []
  },
  {
   "cell_type": "code",
   "execution_count": null,
   "metadata": {},
   "outputs": [],
   "source": []
  }
 ],
 "metadata": {
  "kernelspec": {
   "display_name": "Python 3",
   "language": "python",
   "name": "python3"
  },
  "language_info": {
   "codemirror_mode": {
    "name": "ipython",
    "version": 3
   },
   "file_extension": ".py",
   "mimetype": "text/x-python",
   "name": "python",
   "nbconvert_exporter": "python",
   "pygments_lexer": "ipython3",
   "version": "3.7.6"
  }
 },
 "nbformat": 4,
 "nbformat_minor": 2
}
