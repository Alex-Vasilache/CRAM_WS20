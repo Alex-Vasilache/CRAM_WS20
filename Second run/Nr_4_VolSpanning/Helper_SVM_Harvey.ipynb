{
 "cells": [
  {
   "cell_type": "markdown",
   "metadata": {},
   "source": [
    "# Univariate Stochastic Volatility Model"
   ]
  },
  {
   "cell_type": "markdown",
   "metadata": {},
   "source": [
    "For this short introduction, we follow http://www.chadfulton.com/topics/stochastic_volatility_qmle.html\n",
    "\n",
    "\\begin{align}\n",
    "y_t & = e^{h_t / 2} \\varepsilon_t & \\varepsilon_t \\sim N(0, 1)\\\\\n",
    "h_{t+1} & = \\mu + \\phi(h_t - \\mu) + \\sigma_\\eta \\eta_t \\qquad & \\eta_t \\sim N(0, 1) \\\\\n",
    "h_1 & \\sim N(\\mu, \\sigma_\\eta^2 / (1 - \\phi^2))\n",
    "\\end{align} \n",
    "\n",
    "where $y_t$ are mean-zero returns. \n",
    "\n",
    "A transform that was proposesed in Harvey et al. (1994) (for estimating vol of foreign exchange rates) reads: \n",
    "\n",
    "\\begin{align}\n",
    "\\log y_t^2 & = h_t + \\log \\varepsilon_t^2\\\\\n",
    "h_{t+1} & = \\mu + \\phi(h_t - \\mu) + \\sigma_\\eta \\eta_t \\\\\n",
    "h_1 & \\sim N(\\mu, \\sigma_\\eta^2 / (1 - \\phi^2))\n",
    "\\end{align} \n",
    "\n",
    "with $E(\\log \\varepsilon_t^2) \\approx -1.27$ and $Var(\\log \\varepsilon_t^2) = \\pi^2 / 2$.\n",
    "\n",
    "**Quasi-Maximum Likelihood** \"The quasi-likelihood approach (see e.g. Ruiz [1994] or Harvey et al. [1994]) replaces $\\log \\varepsilon_t^2$ with $E(\\log \\varepsilon_t^2) + \\xi_t$ where $\\xi_t \\sim N(0, \\pi^2 / 2)$. With this replacement, the model above becomes a linear Gaussian state space model and the Kalman filter can be used to compute the log-likelihoods using the prediction error decomposition.\n",
    "\n",
    "Since $\\log \\varepsilon_t^2 - E(\\log \\varepsilon_t^2) \\not \\sim N(0, \\pi^2 / 2)$, this is a quasi-maximum likelihood estimation routine that will only be valid asymptotically. However, Ruiz (1994) suggests that it may perform well nonetheless.\" (see http://www.chadfulton.com/topics/stochastic_volatility_qmle.html)"
   ]
  },
  {
   "cell_type": "code",
   "execution_count": 3,
   "metadata": {},
   "outputs": [],
   "source": [
    "# set-up the SVM using http://www.chadfulton.com/topics/stochastic_volatility_qmle.html\n",
    "\n",
    "\n",
    "\n",
    "import numpy as np\n",
    "import pandas as pd\n",
    "import statsmodels.api as sm\n",
    "import matplotlib.pyplot as plt\n",
    "\n",
    "from statsmodels.tsa.statespace.tools import (\n",
    "    constrain_stationary_univariate, unconstrain_stationary_univariate)\n",
    "\n",
    "# \"Quasi-likelihood stochastic volatility\"\n",
    "class QLSV(sm.tsa.statespace.MLEModel):\n",
    "    def __init__(self, endog):\n",
    "        # Convert to log squares\n",
    "        endog = np.log(endog**2)\n",
    "\n",
    "        # Initialize the base model\n",
    "        super(QLSV, self).__init__(endog, k_states=1, k_posdef=1,\n",
    "                                   initialization='stationary')\n",
    "        \n",
    "        # Setup the observation covariance\n",
    "        self['obs_intercept', 0, 0] = -1.27\n",
    "        self['design', 0, 0] = 1\n",
    "        self['obs_cov', 0, 0] = np.pi**2 / 2\n",
    "        self['selection', 0, 0] = 1.\n",
    "        \n",
    "    @property\n",
    "    def param_names(self):\n",
    "        return ['phi', 'sigma2_eta', 'mu']\n",
    "    \n",
    "    @property\n",
    "    def start_params(self):\n",
    "        return np.r_[0.9, 1., 0.]\n",
    "    \n",
    "    def transform_params(self, params):\n",
    "        return np.r_[constrain_stationary_univariate(params[:1]), params[1]**2, params[2:]]\n",
    "    \n",
    "    def untransform_params(self, params):\n",
    "        return np.r_[unconstrain_stationary_univariate(params[:1]), params[1]**0.5, params[2:]]\n",
    "\n",
    "    def update(self, params, **kwargs):\n",
    "        super(QLSV, self).update(params, **kwargs)\n",
    "        \n",
    "        gamma = params[2] * (1 - params[0])\n",
    "        self['state_intercept', 0, 0] = gamma\n",
    "        self['transition', 0, 0] = params[0]\n",
    "        self['state_cov', 0, 0] = params[1]"
   ]
  },
  {
   "cell_type": "code",
   "execution_count": null,
   "metadata": {},
   "outputs": [],
   "source": []
  }
 ],
 "metadata": {
  "kernelspec": {
   "display_name": "Python 3",
   "language": "python",
   "name": "python3"
  },
  "language_info": {
   "codemirror_mode": {
    "name": "ipython",
    "version": 3
   },
   "file_extension": ".py",
   "mimetype": "text/x-python",
   "name": "python",
   "nbconvert_exporter": "python",
   "pygments_lexer": "ipython3",
   "version": "3.7.6"
  }
 },
 "nbformat": 4,
 "nbformat_minor": 4
}
