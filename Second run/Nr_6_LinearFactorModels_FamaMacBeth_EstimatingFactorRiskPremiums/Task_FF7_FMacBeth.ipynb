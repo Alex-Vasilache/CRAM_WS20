{
 "cells": [
  {
   "cell_type": "markdown",
   "metadata": {},
   "source": [
    "# Voluntary Problem Set\n",
    "\n",
    "This problem set allows you to play around with concepts from class and to solve some smaller subproblems on your own.\n",
    "\n",
    "Additional guidance is provided for concepts that did not make into our class discussion. "
   ]
  },
  {
   "cell_type": "markdown",
   "metadata": {},
   "source": [
    "# Topic: Style Investing and Unconditional (backward-looking) Market Prices of Factor Premiums in US Equity\n",
    "\n",
    "$$\n",
    "\\\\\n",
    "$$\n",
    "\n",
    "Long time ago, Fama and MacBeth proposed a two-step Least Squares approach to estimate the amount of systematic risk (beta) and its market price of risk (lambda) in two consecutive steps.\n",
    "\n",
    "$$\n",
    "\\quad E[ r_{i,t}] - r_t = \\alpha + \\lambda^{f} \\times \\beta_i^{f}   \n",
    "$$\n",
    "\n",
    "where $\\lambda^{f}$ is the unconditional market price of $f$-risk.\n",
    "\n",
    "To estimate that **unconditional market price of risk**, Fama and MacBeth propose a **two step estimation procedure:**\n",
    "\n",
    "- First, regress time-series of individual exess returns onto the risk factors to get betas of assets (i.e. time-series regressions). \n",
    "\n",
    "- Second, for each time point, regress the cross-section of asset's excess returns onto their beta estimate from step 1. (i.e. cross-sectional regression)  \n",
    "\n",
    "$$\n",
    "\\\\\n",
    "$$\n",
    "\n",
    "**We let data speak whether there is evidence for FF7 risk premia in daily US stock returns.**"
   ]
  },
  {
   "cell_type": "markdown",
   "metadata": {},
   "source": [
    "## Fama-MacBeth Procedure Explained. Application: CAPM, 377 Stocks and T time points\n",
    "$$\n",
    "\\\\\n",
    "$$\n",
    "\n",
    "We use Fama-MacBeth regressions to identify $\\lambda$ and $\\beta$ using a two step approach, here applied to the CAPM\n",
    "$$\n",
    "\\\\\n",
    "$$\n",
    "\n",
    "\n",
    "**Step 1:** time-series regressions for each individual stock returns r to recover the stock's  $\\beta$\n",
    "$$\n",
    "r_{t=1,...,T} - r_{f} = \\alpha + \\beta (r_{MKT,t}-r_{f}) + \\epsilon_{t=1,...,T}\n",
    "$$\n",
    "$$\n",
    "\\\\\n",
    "$$\n",
    "\n",
    "**Step 2:** cross-sectional regressions for each time point t to recover $\\lambda_f$\n",
    "$$\n",
    "r_{i=1,...,377} - r_f = \\alpha + \\lambda \\times \\beta_{i=1,...,377} + \\epsilon_{i=1,...,377}\n",
    "$$\n",
    "$$\n",
    "\\\\\n",
    "$$\n",
    "\n",
    "**Step 3:**\n",
    "$$\n",
    "\\lambda_{FMacB} = \\frac{1}{T} \\sum_t \\lambda_t, \\qquad \\text{and} \\qquad t(\\lambda_{FMacB}) = \\frac{\\lambda_{FMacB}}{std(\\lambda_t)/ \\sqrt{T}}\n",
    "$$"
   ]
  },
  {
   "cell_type": "code",
   "execution_count": null,
   "metadata": {},
   "outputs": [],
   "source": []
  },
  {
   "cell_type": "markdown",
   "metadata": {},
   "source": [
    "# Your Learning Points\n",
    "\n",
    "you will learn  \n",
    "\n",
    "- about the industry standard to estimate factor premiums, i.e. Fama-MacBeth procedure\n",
    "$$\n",
    "\\\\\n",
    "$$\n",
    "\n",
    "- that this standard approach has its problems when applying it to daily return data. \n",
    "$$\n",
    "\\\\\n",
    "$$\n",
    "\n",
    "- that there is weak evidence for factor premiums in daily returns. This motivates us to go beyond the traditional factor investment approach\n",
    "$$\n",
    "\\\\\n",
    "$$\n",
    "\n",
    "- Chances are high you will meet such an exercise during an interview with the financial industry"
   ]
  },
  {
   "cell_type": "markdown",
   "metadata": {},
   "source": [
    "# Background Knowledge (not necessary, yet helpful to grasp the context, for solving the Problem Set)\n",
    "$$\n",
    "\\\\\n",
    "$$\n",
    "\n",
    "**Students asking about FamaMacBeth**\n",
    "\n",
    "https://quant.stackexchange.com/questions/46746/rationale-of-fama-macbeth-procedure/46764\n"
   ]
  },
  {
   "cell_type": "markdown",
   "metadata": {},
   "source": [
    "# Background Knowledge (not necessary to solve Problem Set):\n",
    "$$\n",
    "\\\\\n",
    "$$\n",
    "\n",
    "**A worked-out example for Fama-MacBeth is here** unfortunately with a copy / paste error in the visuals, yet the audio is correct\n",
    "\n",
    "https://www.youtube.com/watch?v=9sIFMRDpxyI\n",
    " "
   ]
  },
  {
   "cell_type": "code",
   "execution_count": null,
   "metadata": {},
   "outputs": [],
   "source": []
  },
  {
   "cell_type": "code",
   "execution_count": null,
   "metadata": {},
   "outputs": [],
   "source": []
  },
  {
   "cell_type": "markdown",
   "metadata": {},
   "source": [
    "# Task A.0 [Degree of Difficulty: Beginner]: \n",
    "$$\n",
    "\\\\\n",
    "$$\n",
    "\n",
    "**Notice:**  **R_d.csv** contains merged data for FF7, Rf and SP500 constituents \n",
    "\n",
    "$$\n",
    "\\\\\n",
    "$$\n",
    "\n",
    "### A.0: Fama-MacBeth\n",
    "\n",
    "Program a Class FMacBeth() that implements the Fama-MacBeth procedure for the FF7 factor model (i.e. MKT, SMB, HML, RMW, CMA, Reversal, Momentum).  The output of the class shall be the estimates for the factor exposure (beta), unconditional market price of factor risk (lambda) and the respective adj-R-squares and t-stats. \n",
    "\n",
    "\n",
    "$$\n",
    "\\\\\n",
    "$$\n",
    "**Hint:**\n",
    "H_A_1: The attached file \"Helper_FamaMacBeth.ipynb\" contains a solution to the task\n",
    "$$\n",
    "\\\\\n",
    "$$\n",
    "\n",
    "\n",
    "\n",
    "\n",
    "\n",
    "\n"
   ]
  },
  {
   "cell_type": "markdown",
   "metadata": {},
   "source": [
    "# Task A.0 [Degree of Difficulty: Advanced]:\n",
    "\n",
    "$$\n",
    "\\\\\n",
    "$$\n",
    "\n",
    "**Notice:**  **R_d.csv** contains merged data for FF7, Rf and SP500 constituents \n",
    "\n",
    "$$\n",
    "\\\\\n",
    "$$\n",
    "\n",
    "### A.0: Fama-MacBeth\n",
    "\n",
    "Program a Class FMacBeth() that implements the Fama-MacBeth procedure for the FF7 factor model (i.e. MKT, SMB, HML, RMW, CMA, Reversal, Momentum).  The output of the class shall be the estimates for the factor exposure (beta), unconditional market price of factor risk (lambda) and the respective adj-R-squares and t-stats.  \n",
    "\n",
    "$$\n",
    "\\\\\n",
    "$$\n",
    "\n",
    "**Hint:**\n",
    "H_A_0:  (i) initialize the class with the panel of returns, panel of realized factor returns and the risk-free rate, (ii) one function of the class takes care of the time-series regression to compute beta, another function takes these betas as known features for the cross-sectional regressions, (iii) store adj-R2 and t-stats for each regression and class members.\n",
    "$$\n",
    "\\\\\n",
    "$$\n",
    "\n",
    " \n",
    "\n",
    "\n",
    " "
   ]
  },
  {
   "cell_type": "markdown",
   "metadata": {},
   "source": [
    "# Task A.0 [Degree of Difficulty: Expert]:\n",
    "\n",
    "\n",
    "$$\n",
    "\\\\\n",
    "$$\n",
    "\n",
    "**Notice:**  **R_d.csv** contains merged data for FF7, Rf and SP500 constituents \n",
    "\n",
    "$$\n",
    "\\\\\n",
    "$$\n",
    "\n",
    "### A.0: Fama-MacBeth\n",
    "\n",
    "Program a Class FMacBeth() that implements the Fama-MacBeth procedure for the FF7 factor model (i.e. MKT, SMB, HML, RMW, CMA, Reversal, Momentum).  The output of the class shall be the estimates for the factor exposure (beta), unconditional market price of factor risk (lambda) and the respective adj-R-squares and t-stats.\n",
    " \n",
    " \n",
    " "
   ]
  },
  {
   "cell_type": "code",
   "execution_count": 1,
   "metadata": {},
   "outputs": [],
   "source": [
    "import pandas as pd\n",
    "import numpy as np\n",
    "from scipy import stats\n",
    "import matplotlib.pyplot as plt\n",
    "from sklearn.decomposition import PCA\n",
    "import statsmodels.api as sm\n",
    "from statsmodels.tsa.stattools import adfuller\n",
    "from ipynb.fs.defs.Helper_FamaMacBeth import FMacBeth"
   ]
  },
  {
   "cell_type": "markdown",
   "metadata": {},
   "source": [
    "# Additional Tasks\n",
    "\n",
    "\n",
    "### A_1: Look at the betas using the print() command. Write down the betas for company XLNX\n",
    "\n",
    " \n",
    "\n",
    "\n",
    "### A_2: For which 'investment style' is XLNX well suited?\n",
    "\n",
    " \n",
    "\n",
    "\n",
    "### A_3: How much of the variance in the XLNX's stock return is explained by the 7 factors? \n",
    "\n",
    " \n",
    "### A_4: What fraction of risk in XLNX is diversifiable, assuming the FF7 model holds?\n",
    "\n",
    "\n",
    "### A_5: Which firm is best explained by the FF7 factors? How large is its respective adj-R2? Characterize its 'investment style' in terms of its beta coefficients and in terms of a qualitative assessment\n",
    " \n",
    "\n",
    "### A_6. State the Fama-MacBeth market price of risks (annualized in percent) and respective t-stats \n",
    " \n",
    "\n",
    "\n",
    "### A_7. What is the main reason for these disappointing results?\n",
    "\n",
    " "
   ]
  },
  {
   "cell_type": "code",
   "execution_count": 32,
   "metadata": {},
   "outputs": [
    {
     "output_type": "execute_result",
     "data": {
      "text/plain": [
       "            Mkt-RF     SMB     HML     RMW   CMA_x     RF_x  ST_Rev  Mom     \\\n",
       "Date                                                                          \n",
       "2000-01-04 -0.0406  0.0035  0.0214  0.0043  0.0146  0.00021  0.0163 -0.0186   \n",
       "\n",
       "                 MMM       ABT  ...       WDC        WY      WHR       WMB  \\\n",
       "Date                            ...                                          \n",
       "2000-01-04 -0.040547 -0.028988  ...  0.174353 -0.038291 -0.03918 -0.022427   \n",
       "\n",
       "                 XEL       XRX     XLNX       YUM      ZBRA      ZION  \n",
       "Date                                                                   \n",
       "2000-01-04  0.022765 -0.047628 -0.02299 -0.020305 -0.014534 -0.049635  \n",
       "\n",
       "[1 rows x 385 columns]"
      ],
      "text/html": "<div>\n<style scoped>\n    .dataframe tbody tr th:only-of-type {\n        vertical-align: middle;\n    }\n\n    .dataframe tbody tr th {\n        vertical-align: top;\n    }\n\n    .dataframe thead th {\n        text-align: right;\n    }\n</style>\n<table border=\"1\" class=\"dataframe\">\n  <thead>\n    <tr style=\"text-align: right;\">\n      <th></th>\n      <th>Mkt-RF</th>\n      <th>SMB</th>\n      <th>HML</th>\n      <th>RMW</th>\n      <th>CMA_x</th>\n      <th>RF_x</th>\n      <th>ST_Rev</th>\n      <th>Mom</th>\n      <th>MMM</th>\n      <th>ABT</th>\n      <th>...</th>\n      <th>WDC</th>\n      <th>WY</th>\n      <th>WHR</th>\n      <th>WMB</th>\n      <th>XEL</th>\n      <th>XRX</th>\n      <th>XLNX</th>\n      <th>YUM</th>\n      <th>ZBRA</th>\n      <th>ZION</th>\n    </tr>\n    <tr>\n      <th>Date</th>\n      <th></th>\n      <th></th>\n      <th></th>\n      <th></th>\n      <th></th>\n      <th></th>\n      <th></th>\n      <th></th>\n      <th></th>\n      <th></th>\n      <th></th>\n      <th></th>\n      <th></th>\n      <th></th>\n      <th></th>\n      <th></th>\n      <th></th>\n      <th></th>\n      <th></th>\n      <th></th>\n      <th></th>\n    </tr>\n  </thead>\n  <tbody>\n    <tr>\n      <th>2000-01-04</th>\n      <td>-0.0406</td>\n      <td>0.0035</td>\n      <td>0.0214</td>\n      <td>0.0043</td>\n      <td>0.0146</td>\n      <td>0.00021</td>\n      <td>0.0163</td>\n      <td>-0.0186</td>\n      <td>-0.040547</td>\n      <td>-0.028988</td>\n      <td>...</td>\n      <td>0.174353</td>\n      <td>-0.038291</td>\n      <td>-0.03918</td>\n      <td>-0.022427</td>\n      <td>0.022765</td>\n      <td>-0.047628</td>\n      <td>-0.02299</td>\n      <td>-0.020305</td>\n      <td>-0.014534</td>\n      <td>-0.049635</td>\n    </tr>\n  </tbody>\n</table>\n<p>1 rows × 385 columns</p>\n</div>"
     },
     "metadata": {},
     "execution_count": 32
    }
   ],
   "source": [
    "data = pd.read_csv(\"R_d.csv\", parse_dates=True, index_col=0)\n",
    "data.head(1)"
   ]
  },
  {
   "cell_type": "code",
   "execution_count": 29,
   "metadata": {},
   "outputs": [],
   "source": [
    "ff7 = pd.merge(data.iloc[:,:5],data.iloc[:,6:8], on=\"Date\")\n",
    "rf = pd.DataFrame(data[\"RF_x\"])\n",
    "r = data.iloc[:,8:]"
   ]
  },
  {
   "cell_type": "code",
   "execution_count": 30,
   "metadata": {},
   "outputs": [],
   "source": [
    "fmb = FMacBeth(r, ff7, rf)\n",
    "fmb.TSRegression_step1()\n",
    "fmb.CSRegression_step2()"
   ]
  },
  {
   "cell_type": "code",
   "execution_count": 58,
   "metadata": {},
   "outputs": [
    {
     "output_type": "execute_result",
     "data": {
      "text/plain": [
       "beta_MKT    1.17\n",
       "beta_SMB    0.06\n",
       "beta_HML   -0.80\n",
       "beta_RMW   -1.10\n",
       "beta_CMA   -0.18\n",
       "beta_Rev   -0.08\n",
       "beta_Mom   -0.28\n",
       "Name: XLNX, dtype: float64"
      ]
     },
     "metadata": {},
     "execution_count": 58
    }
   ],
   "source": [
    "np.round(fmb.beta.tail(4).iloc[0,:],2)"
   ]
  },
  {
   "cell_type": "code",
   "execution_count": 60,
   "metadata": {},
   "outputs": [
    {
     "output_type": "execute_result",
     "data": {
      "text/plain": [
       "      beta_R2\n",
       "XLNX     0.45\n",
       "YUM      0.32\n",
       "ZBRA     0.32\n",
       "ZION     0.55"
      ],
      "text/html": "<div>\n<style scoped>\n    .dataframe tbody tr th:only-of-type {\n        vertical-align: middle;\n    }\n\n    .dataframe tbody tr th {\n        vertical-align: top;\n    }\n\n    .dataframe thead th {\n        text-align: right;\n    }\n</style>\n<table border=\"1\" class=\"dataframe\">\n  <thead>\n    <tr style=\"text-align: right;\">\n      <th></th>\n      <th>beta_R2</th>\n    </tr>\n  </thead>\n  <tbody>\n    <tr>\n      <th>XLNX</th>\n      <td>0.45</td>\n    </tr>\n    <tr>\n      <th>YUM</th>\n      <td>0.32</td>\n    </tr>\n    <tr>\n      <th>ZBRA</th>\n      <td>0.32</td>\n    </tr>\n    <tr>\n      <th>ZION</th>\n      <td>0.55</td>\n    </tr>\n  </tbody>\n</table>\n</div>"
     },
     "metadata": {},
     "execution_count": 60
    }
   ],
   "source": [
    "np.round(fmb.betaR2.tail(4),2)"
   ]
  },
  {
   "cell_type": "code",
   "execution_count": 61,
   "metadata": {},
   "outputs": [
    {
     "output_type": "execute_result",
     "data": {
      "text/plain": [
       "      beta_R2\n",
       "XLNX     0.55\n",
       "YUM      0.68\n",
       "ZBRA     0.68\n",
       "ZION     0.45"
      ],
      "text/html": "<div>\n<style scoped>\n    .dataframe tbody tr th:only-of-type {\n        vertical-align: middle;\n    }\n\n    .dataframe tbody tr th {\n        vertical-align: top;\n    }\n\n    .dataframe thead th {\n        text-align: right;\n    }\n</style>\n<table border=\"1\" class=\"dataframe\">\n  <thead>\n    <tr style=\"text-align: right;\">\n      <th></th>\n      <th>beta_R2</th>\n    </tr>\n  </thead>\n  <tbody>\n    <tr>\n      <th>XLNX</th>\n      <td>0.55</td>\n    </tr>\n    <tr>\n      <th>YUM</th>\n      <td>0.68</td>\n    </tr>\n    <tr>\n      <th>ZBRA</th>\n      <td>0.68</td>\n    </tr>\n    <tr>\n      <th>ZION</th>\n      <td>0.45</td>\n    </tr>\n  </tbody>\n</table>\n</div>"
     },
     "metadata": {},
     "execution_count": 61
    }
   ],
   "source": [
    "np.round(1- fmb.betaR2.tail(4),2)"
   ]
  },
  {
   "cell_type": "code",
   "execution_count": 70,
   "metadata": {},
   "outputs": [
    {
     "output_type": "execute_result",
     "data": {
      "text/plain": [
       "     beta_R2\n",
       "JPM     0.71\n",
       "BAC     0.68\n",
       "TFC     0.66\n",
       "WFC     0.66\n",
       "C       0.65"
      ],
      "text/html": "<div>\n<style scoped>\n    .dataframe tbody tr th:only-of-type {\n        vertical-align: middle;\n    }\n\n    .dataframe tbody tr th {\n        vertical-align: top;\n    }\n\n    .dataframe thead th {\n        text-align: right;\n    }\n</style>\n<table border=\"1\" class=\"dataframe\">\n  <thead>\n    <tr style=\"text-align: right;\">\n      <th></th>\n      <th>beta_R2</th>\n    </tr>\n  </thead>\n  <tbody>\n    <tr>\n      <th>JPM</th>\n      <td>0.71</td>\n    </tr>\n    <tr>\n      <th>BAC</th>\n      <td>0.68</td>\n    </tr>\n    <tr>\n      <th>TFC</th>\n      <td>0.66</td>\n    </tr>\n    <tr>\n      <th>WFC</th>\n      <td>0.66</td>\n    </tr>\n    <tr>\n      <th>C</th>\n      <td>0.65</td>\n    </tr>\n  </tbody>\n</table>\n</div>"
     },
     "metadata": {},
     "execution_count": 70
    }
   ],
   "source": [
    "np.round(fmb.betaR2.sort_values(by=\"beta_R2\", ascending=False).head(),2)"
   ]
  },
  {
   "cell_type": "code",
   "execution_count": 83,
   "metadata": {},
   "outputs": [
    {
     "output_type": "execute_result",
     "data": {
      "text/plain": [
       "     beta_MKT  beta_SMB  beta_HML  beta_RMW  beta_CMA  beta_Rev  beta_Mom\n",
       "JPM      1.23     -0.35       1.3     -0.55     -0.55     -0.02      -0.2"
      ],
      "text/html": "<div>\n<style scoped>\n    .dataframe tbody tr th:only-of-type {\n        vertical-align: middle;\n    }\n\n    .dataframe tbody tr th {\n        vertical-align: top;\n    }\n\n    .dataframe thead th {\n        text-align: right;\n    }\n</style>\n<table border=\"1\" class=\"dataframe\">\n  <thead>\n    <tr style=\"text-align: right;\">\n      <th></th>\n      <th>beta_MKT</th>\n      <th>beta_SMB</th>\n      <th>beta_HML</th>\n      <th>beta_RMW</th>\n      <th>beta_CMA</th>\n      <th>beta_Rev</th>\n      <th>beta_Mom</th>\n    </tr>\n  </thead>\n  <tbody>\n    <tr>\n      <th>JPM</th>\n      <td>1.23</td>\n      <td>-0.35</td>\n      <td>1.3</td>\n      <td>-0.55</td>\n      <td>-0.55</td>\n      <td>-0.02</td>\n      <td>-0.2</td>\n    </tr>\n  </tbody>\n</table>\n</div>"
     },
     "metadata": {},
     "execution_count": 83
    }
   ],
   "source": [
    "np.round(fmb.beta.loc[[\"JPM\"]],2)"
   ]
  },
  {
   "cell_type": "code",
   "execution_count": 87,
   "metadata": {},
   "outputs": [
    {
     "output_type": "execute_result",
     "data": {
      "text/plain": [
       "         0\n",
       "MKT   3.28\n",
       "SMB   5.89\n",
       "HML  -3.76\n",
       "RMW   2.45\n",
       "CMA  -3.21\n",
       "Rev -10.59\n",
       "Mom  30.51"
      ],
      "text/html": "<div>\n<style scoped>\n    .dataframe tbody tr th:only-of-type {\n        vertical-align: middle;\n    }\n\n    .dataframe tbody tr th {\n        vertical-align: top;\n    }\n\n    .dataframe thead th {\n        text-align: right;\n    }\n</style>\n<table border=\"1\" class=\"dataframe\">\n  <thead>\n    <tr style=\"text-align: right;\">\n      <th></th>\n      <th>0</th>\n    </tr>\n  </thead>\n  <tbody>\n    <tr>\n      <th>MKT</th>\n      <td>3.28</td>\n    </tr>\n    <tr>\n      <th>SMB</th>\n      <td>5.89</td>\n    </tr>\n    <tr>\n      <th>HML</th>\n      <td>-3.76</td>\n    </tr>\n    <tr>\n      <th>RMW</th>\n      <td>2.45</td>\n    </tr>\n    <tr>\n      <th>CMA</th>\n      <td>-3.21</td>\n    </tr>\n    <tr>\n      <th>Rev</th>\n      <td>-10.59</td>\n    </tr>\n    <tr>\n      <th>Mom</th>\n      <td>30.51</td>\n    </tr>\n  </tbody>\n</table>\n</div>"
     },
     "metadata": {},
     "execution_count": 87
    }
   ],
   "source": [
    "np.round(fmb.lambdas_FB*252*100,2)"
   ]
  },
  {
   "cell_type": "code",
   "execution_count": 89,
   "metadata": {},
   "outputs": [
    {
     "output_type": "execute_result",
     "data": {
      "text/plain": [
       "        0\n",
       "MKT  0.50\n",
       "SMB  1.93\n",
       "HML -1.14\n",
       "RMW  0.92\n",
       "CMA -1.09\n",
       "Rev -1.19\n",
       "Mom  3.84"
      ],
      "text/html": "<div>\n<style scoped>\n    .dataframe tbody tr th:only-of-type {\n        vertical-align: middle;\n    }\n\n    .dataframe tbody tr th {\n        vertical-align: top;\n    }\n\n    .dataframe thead th {\n        text-align: right;\n    }\n</style>\n<table border=\"1\" class=\"dataframe\">\n  <thead>\n    <tr style=\"text-align: right;\">\n      <th></th>\n      <th>0</th>\n    </tr>\n  </thead>\n  <tbody>\n    <tr>\n      <th>MKT</th>\n      <td>0.50</td>\n    </tr>\n    <tr>\n      <th>SMB</th>\n      <td>1.93</td>\n    </tr>\n    <tr>\n      <th>HML</th>\n      <td>-1.14</td>\n    </tr>\n    <tr>\n      <th>RMW</th>\n      <td>0.92</td>\n    </tr>\n    <tr>\n      <th>CMA</th>\n      <td>-1.09</td>\n    </tr>\n    <tr>\n      <th>Rev</th>\n      <td>-1.19</td>\n    </tr>\n    <tr>\n      <th>Mom</th>\n      <td>3.84</td>\n    </tr>\n  </tbody>\n</table>\n</div>"
     },
     "metadata": {},
     "execution_count": 89
    }
   ],
   "source": [
    "np.round(fmb.t_lambdas_FB,2)"
   ]
  },
  {
   "cell_type": "code",
   "execution_count": null,
   "metadata": {},
   "outputs": [],
   "source": []
  }
 ],
 "metadata": {
  "kernelspec": {
   "name": "python3",
   "display_name": "Python 3.7.8 64-bit",
   "metadata": {
    "interpreter": {
     "hash": "57baa5815c940fdaff4d14510622de9616cae602444507ba5d0b6727c008cbd6"
    }
   }
  },
  "language_info": {
   "codemirror_mode": {
    "name": "ipython",
    "version": 3
   },
   "file_extension": ".py",
   "mimetype": "text/x-python",
   "name": "python",
   "nbconvert_exporter": "python",
   "pygments_lexer": "ipython3",
   "version": "3.7.8-final"
  }
 },
 "nbformat": 4,
 "nbformat_minor": 2
}