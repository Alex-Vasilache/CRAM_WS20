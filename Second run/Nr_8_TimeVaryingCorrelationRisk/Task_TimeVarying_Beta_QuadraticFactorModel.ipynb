{
 "cells": [
  {
   "cell_type": "markdown",
   "metadata": {},
   "source": [
    "# Voluntary Problem Set\n",
    "\n",
    "This problem set allows you to play around with concepts from class and to solve some smaller subproblems on your own.\n",
    "\n",
    "Additional guidance is provided for concepts that did not make into our class discussion. "
   ]
  },
  {
   "cell_type": "markdown",
   "metadata": {},
   "source": [
    "# Topic: My preferred Single Factor Model (simplified Quadratic Model)\n",
    "\n",
    "Research shows that a single factor model with time-varying beta is driving out other FF factors. My preferred model is to have a time-varying beta. The simplest way is to use rolling window regressions for getting time-varying beta.\n",
    "\n",
    "$$\n",
    "\\\\\n",
    "$$\n",
    "\n",
    "CAPM with a time-varying beta\n",
    "\n",
    "$$\n",
    "\\\\\n",
    "$$\n",
    "\n",
    "$$\n",
    "r_t - r_f = \\alpha + \\beta_{t-1} \\; \\times \\;  f_t + \\epsilon_t, \\qquad \\text{with} \\;  \\beta_{t-1} \\equiv \\frac{cov_{t-1}(r_t, f_t)}{var_{t-1}(f_t)}\n",
    "$$\n",
    "\n",
    "$$\n",
    "\\\\\n",
    "$$\n",
    "\n",
    "Notice: the timing is important, $\\beta_{t-1}$ vs $f_t$ and $\\epsilon_t$\n",
    " "
   ]
  },
  {
   "cell_type": "markdown",
   "metadata": {},
   "source": [
    "## Time-varying Beta allows to compute interesting quantities, e.g. time-varying systematic risk, time-varying correlations and more and relates nicely to factor analysis with time-varying factor loadings.\n",
    "\n",
    "$$\n",
    "\\\\\n",
    "$$\n",
    "\n",
    "My reading of the literature is that accounting for time-varying factor loadings is at least as important as findings the proper factors. \n",
    "$$\n",
    "\\\\\n",
    "$$\n",
    "\n",
    "**MU's preferred linear dependence structure**\n",
    "$$\n",
    "Var_{t-1}(r_t) = \\beta^2_{t-1} \\times Var_{t-1}(f_t) + Var_{t-1}(\\epsilon_t), \\qquad R^2_t:= \\frac{\\beta^2_{t-1} \\times Var_{t-1}(f_t) }{\\beta^2_{t-1} \\times Var_{t-1}(f_t) + Var_{t-1}(\\epsilon_t)}\n",
    "$$\n",
    " \n",
    "\n",
    "\n",
    "\n"
   ]
  },
  {
   "cell_type": "markdown",
   "metadata": {},
   "source": [
    "# Your Learning Points\n",
    "\n",
    "you will practice \n",
    "\n",
    "- estimating time-varying beta using rolling window regressions\n",
    "$$\n",
    "\\\\\n",
    "$$\n",
    "\n",
    "- factor structure in beta\n",
    "$$\n",
    "\\\\\n",
    "$$\n",
    "\n",
    "- time-varying correlations\n",
    "$$\n",
    "\\\\\n",
    "$$\n",
    "\n",
    "- Estimating time-varying vol using SVM\n",
    " "
   ]
  },
  {
   "cell_type": "code",
   "execution_count": null,
   "metadata": {},
   "outputs": [],
   "source": []
  },
  {
   "cell_type": "code",
   "execution_count": null,
   "metadata": {},
   "outputs": [],
   "source": []
  },
  {
   "cell_type": "code",
   "execution_count": null,
   "metadata": {},
   "outputs": [],
   "source": []
  },
  {
   "cell_type": "markdown",
   "metadata": {},
   "source": [
    "# Tasks for a Quick Way to Get a Glance on Time-Varying Co-movement with Market\n",
    "$$\n",
    "\\\\\n",
    "$$\n",
    "\n",
    "**Notice:**  **R_d.csv** contains merged data for FF7, Rf and SP500 constituents \n",
    "\n",
    "$$\n",
    "\\\\\n",
    "$$\n",
    "\n",
    "**A.1** Compute a function that computes rolling-window GLS univariate regressions for any window size. \n",
    "\n",
    "**A.2** Compute rolling window betas with a window size of 252 trading days. Use the (normalized) first principal component of US returns as the single index factor. That time-series is given (or can be computed if you wish so).\n",
    " \n",
    "**A.3** Plot the resulting beta time-series for the hypthetical 'median' US company. Do you consider the movement to be volatile, [yes/no]? Why is the magnitude of that beta not fluctuating around 1?\n",
    "\n",
    "\n",
    "**A.4** How many linear factors are necessary to explain at least 80% of variations in cross-sectional betas?\n",
    "\n",
    "\n",
    "**A.5** Compute for all firms and for all time points the relative amount of systematic risk that is embedded in each stock's return. Use the pandas.describe() function to get a feeling for the dispersion of betas for firms. How realistics are results in your view?\n",
    "\n",
    "\n",
    "**A.6** Use results from **A.2** to compute time-varying correlations. How many PCs are necessary to drive at least 70% of variations in cross-sectional correlations. When plotting the first principal component of correlations, can you spot why industry says 'diversification disappears when you need it most'?\n",
    "\n",
    "\n",
    "\n",
    "**A.7** Define a crash subset to be periods that coincide with periods of 3 and more standard deviations in the underlying first principal component of return volatility. Use this definition of a crash to find the single firm that has the lowest correlation with the market during periods of market crashes. What is the business model of that firm? How realistic is the finding in you opinion?\n",
    "\n",
    "\n",
    "\n",
    "\n",
    "\n",
    "\n",
    " \n",
    "\n",
    "\n"
   ]
  },
  {
   "cell_type": "code",
   "execution_count": null,
   "metadata": {},
   "outputs": [],
   "source": []
  },
  {
   "cell_type": "code",
   "execution_count": null,
   "metadata": {},
   "outputs": [],
   "source": []
  },
  {
   "cell_type": "code",
   "execution_count": null,
   "metadata": {},
   "outputs": [],
   "source": []
  },
  {
   "cell_type": "code",
   "execution_count": null,
   "metadata": {},
   "outputs": [],
   "source": []
  },
  {
   "cell_type": "code",
   "execution_count": null,
   "metadata": {},
   "outputs": [],
   "source": []
  },
  {
   "cell_type": "code",
   "execution_count": null,
   "metadata": {},
   "outputs": [],
   "source": []
  },
  {
   "cell_type": "code",
   "execution_count": null,
   "metadata": {},
   "outputs": [],
   "source": []
  }
 ],
 "metadata": {
  "kernelspec": {
   "display_name": "Python 3",
   "language": "python",
   "name": "python3"
  },
  "language_info": {
   "codemirror_mode": {
    "name": "ipython",
    "version": 3
   },
   "file_extension": ".py",
   "mimetype": "text/x-python",
   "name": "python",
   "nbconvert_exporter": "python",
   "pygments_lexer": "ipython3",
   "version": "3.7.6"
  }
 },
 "nbformat": 4,
 "nbformat_minor": 2
}
