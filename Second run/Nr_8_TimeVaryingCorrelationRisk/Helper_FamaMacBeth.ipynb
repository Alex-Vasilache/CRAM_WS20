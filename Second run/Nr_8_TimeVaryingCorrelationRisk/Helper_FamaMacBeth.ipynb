{
 "cells": [
  {
   "cell_type": "markdown",
   "metadata": {},
   "source": [
    "Long time ago, Fama and MacBeth proposed a two-step Least Squares approach to estimate the amount of systematic risk (beta) and its market price of risk (lambda) in two consecutive steps.\n",
    "\n",
    "$$\n",
    "\\quad E[ r_{i,t}] - r_t = \\alpha + \\lambda^{f} \\times \\beta_i^{f}   \n",
    "$$\n",
    "\n",
    "where $\\lambda^{f}$ is the unconditional market price of $f$-risk.\n",
    "\n",
    "To estimate that **unconditional market price of risk**, Fama and MacBeth propose a two stage estimation procedure: First, regress the returns onto the risk factors to get betas of assets (i.e. time-series regressions). Second, regress asset returns in each time point (cross-sectional regression) onto the betas from stage 1. \n"
   ]
  },
  {
   "cell_type": "markdown",
   "metadata": {},
   "source": [
    "We use a fama-macBeth regressions to identify $\\lambda$ and $\\beta$ using a two step approach\n",
    "\n",
    "**Step 1:** time-series regressions for each individual stock returns r to recover the stock's  $\\beta$\n",
    "$$\n",
    "r_{t=1,...,T} - r_{f} = \\alpha + \\beta (r_{MKT,t}-r_{f}) + \\epsilon_{t=1,...,T}\n",
    "$$\n",
    "$$\n",
    "\\\\\n",
    "$$\n",
    "\n",
    "**Step 2:** cross-sectional regressions for each time point t to recover $\\lambda_f$\n",
    "$$\n",
    "r_{i=1,...,377} - r_f = \\alpha + \\lambda \\times \\beta_{i=1,...,377} + \\epsilon_{i=1,...,377}\n",
    "$$\n",
    "\n",
    "**Step 3:**\n",
    "$$\n",
    "\\lambda_{FMacB} = \\frac{1}{T} \\sum_t \\lambda_t, \\qquad \\text{and} \\qquad t(\\lambda_{FMacB}) = \\frac{\\lambda_{FMacB}}{std(\\lambda_t)/ \\sqrt{T}}\n",
    "$$"
   ]
  },
  {
   "cell_type": "code",
   "execution_count": 5,
   "metadata": {},
   "outputs": [
    {
     "data": {
      "text/plain": [
       "0.636015306122449"
      ]
     },
     "execution_count": 5,
     "metadata": {},
     "output_type": "execute_result"
    }
   ],
   "source": []
  },
  {
   "cell_type": "markdown",
   "metadata": {},
   "source": [
    "# Class: FMacBeth for estimating UNCONDITIONAL BETA AND MARKET PRICES OF RISK for FF-7 Model"
   ]
  },
  {
   "cell_type": "code",
   "execution_count": 1,
   "metadata": {},
   "outputs": [],
   "source": [
    "import statsmodels.api as sm\n",
    "import numpy as np\n",
    "import pandas as pd\n",
    "import copy\n",
    "from scipy import stats\n"
   ]
  },
  {
   "cell_type": "code",
   "execution_count": null,
   "metadata": {},
   "outputs": [],
   "source": [
    "class FMacBeth():\n",
    "    def __init__(self, r, f,rf):\n",
    "        #input: r: return panel, pandas\n",
    "        #input: f: factor panel, pandas\n",
    "        #input: rf: risk-free rate, pandas\n",
    "        self.r = copy.copy(r)\n",
    "        self.f = copy.copy(f)\n",
    "        self.rf = copy.copy(rf)\n",
    "    \n",
    "     \n",
    "        #BETA\n",
    "        self.beta = r.agg(['mean']).T\n",
    "        self.beta[\"beta_MKT\"] = 0\n",
    "        self.beta['beta_SMB'] = 0\n",
    "        self.beta['beta_HML'] = 0\n",
    "        self.beta['beta_RMW'] = 0\n",
    "        self.beta['beta_CMA'] = 0\n",
    "        self.beta['beta_Rev'] = 0\n",
    "        self.beta['beta_Mom'] = 0\n",
    "        \n",
    "        self.beta.drop(['mean'], axis=1, inplace=True) \n",
    "       \n",
    "        #BETA_R2 (i.e. R2 of linear factor model regression)\n",
    "        self.betaR2 = r.agg(['mean']).T\n",
    "        self.betaR2.rename(columns={'mean': 'beta_R2'}, inplace=True)  \n",
    "        \n",
    "  \n",
    "        \n",
    "    def TSRegression_step1(self):\n",
    "        for i in range(0,self.r.shape[1]): \n",
    "            X_ = self.f\n",
    "            X_ = sm.add_constant(X_)\n",
    "            gls_ = sm.GLS(self.r.iloc[:,i]-self.rf.iloc[:,0], X_).fit()\n",
    "            betas_i = gls_.params.values \n",
    "            for j in range(1,self.f.shape[1]+1):\n",
    "                self.beta.iloc[i,j-1] = betas_i[j]\n",
    "             \n",
    "            self.betaR2.iloc[i,0] = gls_.rsquared_adj\n",
    "                \n",
    "           \n",
    "    def CSRegression_step2(self):\n",
    "        lambdas = np.zeros((self.r.shape[0],self.f.shape[1]))     \n",
    "        lambdasR2 = np.zeros((self.r.shape[0], 1))\n",
    "        \n",
    "        X_ = self.beta\n",
    "        X_ = sm.add_constant(X_)\n",
    "        \n",
    "        for t in range(0,self.r.shape[0]):\n",
    "            y_t = self.r.iloc[t,:] - self.rf.iloc[t,0]\n",
    "            gls_t = sm.GLS(y_t, X_).fit()\n",
    "            \n",
    "            lambdasR2[t,0] = gls_t.rsquared_adj \n",
    "            lambdas[t,:] = gls_t.params.values[1:]\n",
    "            \n",
    "             \n",
    "             \n",
    "            \n",
    "        \n",
    "        lambda_FB = np.mean(lambdas, axis=0) / self.r.shape[0]\n",
    "        self.lambdas = pd.DataFrame(data=lambdas, index=self.r.index)\n",
    "        \n",
    "        self.lambdas_FB = pd.DataFrame(data=lambda_FB, index = ['MKT', 'SMB', 'HML', 'RMW', 'CMA', 'Rev', 'Mom'])\n",
    "        \n",
    "        self.t_lambdas_FB = self.lambdas_FB / ( self.lambdas.std(axis=0) / np.sqrt(self.r.shape[0]) )\n",
    "        \n",
    "        self.lambdasR2 = pd.DataFrame(data=lambdasR2, index=self.r.index) \n",
    "        \n",
    "    \n",
    "        \n",
    "        \n",
    "        \n",
    "                \n",
    "             \n",
    "                \n",
    "        "
   ]
  },
  {
   "cell_type": "code",
   "execution_count": null,
   "metadata": {},
   "outputs": [],
   "source": []
  }
 ],
 "metadata": {
  "kernelspec": {
   "display_name": "Python 3",
   "language": "python",
   "name": "python3"
  },
  "language_info": {
   "codemirror_mode": {
    "name": "ipython",
    "version": 3
   },
   "file_extension": ".py",
   "mimetype": "text/x-python",
   "name": "python",
   "nbconvert_exporter": "python",
   "pygments_lexer": "ipython3",
   "version": "3.7.6"
  }
 },
 "nbformat": 4,
 "nbformat_minor": 4
}
